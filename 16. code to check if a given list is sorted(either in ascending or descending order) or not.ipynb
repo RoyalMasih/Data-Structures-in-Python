{
 "cells": [
  {
   "cell_type": "code",
   "execution_count": 2,
   "id": "e921faef-8022-499b-847a-10b7be025c0f",
   "metadata": {},
   "outputs": [
    {
     "name": "stdout",
     "output_type": "stream",
     "text": [
      "The list is sorted in ascending order.\n"
     ]
    }
   ],
   "source": [
    "#16. Create a code to check if a given list is sorted(either in ascending or descending order) or not.\n",
    "lst = [1, 2, 3, 4, 5]\n",
    "ascending = True\n",
    "descending = True\n",
    "for i in range(len(lst) - 1):\n",
    "    if lst[i] > lst[i + 1]:\n",
    "        ascending = False\n",
    "    if lst[i] < lst[i + 1]:\n",
    "        descending = False\n",
    "\n",
    "if ascending:\n",
    "    print(\"The list is sorted in ascending order.\")\n",
    "elif descending:\n",
    "    print(\"The list is sorted in descending order.\")\n",
    "else:\n",
    "    print(\"The list is not sorted.\")\n"
   ]
  },
  {
   "cell_type": "code",
   "execution_count": null,
   "id": "23628992-e4fa-4ab4-8a35-783bff34496a",
   "metadata": {},
   "outputs": [],
   "source": []
  },
  {
   "cell_type": "code",
   "execution_count": null,
   "id": "ef448199-df03-43ae-aa62-360aa91fb6d5",
   "metadata": {},
   "outputs": [],
   "source": []
  }
 ],
 "metadata": {
  "kernelspec": {
   "display_name": "Python 3 (ipykernel)",
   "language": "python",
   "name": "python3"
  },
  "language_info": {
   "codemirror_mode": {
    "name": "ipython",
    "version": 3
   },
   "file_extension": ".py",
   "mimetype": "text/x-python",
   "name": "python",
   "nbconvert_exporter": "python",
   "pygments_lexer": "ipython3",
   "version": "3.11.7"
  }
 },
 "nbformat": 4,
 "nbformat_minor": 5
}
