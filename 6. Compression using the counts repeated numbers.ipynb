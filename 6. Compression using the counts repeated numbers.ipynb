{
 "cells": [
  {
   "cell_type": "code",
   "execution_count": 22,
   "id": "523230e7-9089-4b19-8dc5-5ae07dd1cae8",
   "metadata": {},
   "outputs": [
    {
     "name": "stdout",
     "output_type": "stream",
     "text": [
      "Compressed string: a3b3c4d6\n"
     ]
    }
   ],
   "source": [
    "#6. Write a code to perform basic string compression using the counts of repeated characters.\n",
    "\n",
    "string = \"aaabbbccccdddddd\"\n",
    "compressed = \"\"\n",
    "count = 1\n",
    "\n",
    "for i in range(len(string)):\n",
    "        if i + 1 < len(string) and string[i] == string[i + 1]:\n",
    "            count += 1\n",
    "        else:\n",
    "            compressed += string[i] + str(count)\n",
    "            count = 1  \n",
    "\n",
    "print(\"Compressed string:\", compressed)\n"
   ]
  },
  {
   "cell_type": "code",
   "execution_count": null,
   "id": "f0ab8358-de0d-4245-b7fb-3d6ecae4da9a",
   "metadata": {},
   "outputs": [],
   "source": []
  },
  {
   "cell_type": "code",
   "execution_count": null,
   "id": "9174a6c5-e26a-4993-bf63-a378a45ebb99",
   "metadata": {},
   "outputs": [],
   "source": []
  }
 ],
 "metadata": {
  "kernelspec": {
   "display_name": "Python 3 (ipykernel)",
   "language": "python",
   "name": "python3"
  },
  "language_info": {
   "codemirror_mode": {
    "name": "ipython",
    "version": 3
   },
   "file_extension": ".py",
   "mimetype": "text/x-python",
   "name": "python",
   "nbconvert_exporter": "python",
   "pygments_lexer": "ipython3",
   "version": "3.11.7"
  }
 },
 "nbformat": 4,
 "nbformat_minor": 5
}
