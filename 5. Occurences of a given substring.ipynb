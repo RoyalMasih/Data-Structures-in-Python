{
 "cells": [
  {
   "cell_type": "code",
   "execution_count": 17,
   "id": "cf797b51-101c-40cd-b5a0-a0d7e42c0716",
   "metadata": {},
   "outputs": [
    {
     "name": "stdout",
     "output_type": "stream",
     "text": [
      "occurences of substring :  [25, 33, 36]\n"
     ]
    }
   ],
   "source": [
    "#Write a code find all occurences of a given substring within another string.\n",
    "\n",
    "string = \"hello pwskills, I am a Data Scientist\"\n",
    "substr = \"t\"\n",
    "occurences = []\n",
    "start = 0\n",
    "while True:\n",
    "    start = string.find(substr,start)\n",
    "    if start == -1:\n",
    "        break\n",
    "    occurences.append(start)\n",
    "    start += 1\n",
    "print(\"occurences of substring : \", occurences)"
   ]
  },
  {
   "cell_type": "code",
   "execution_count": null,
   "id": "73b40fe2-cee3-42b8-9129-434825f62f6f",
   "metadata": {},
   "outputs": [],
   "source": []
  },
  {
   "cell_type": "code",
   "execution_count": null,
   "id": "d972f68e-af82-4c05-90ab-28f511ab0509",
   "metadata": {},
   "outputs": [],
   "source": []
  }
 ],
 "metadata": {
  "kernelspec": {
   "display_name": "Python 3 (ipykernel)",
   "language": "python",
   "name": "python3"
  },
  "language_info": {
   "codemirror_mode": {
    "name": "ipython",
    "version": 3
   },
   "file_extension": ".py",
   "mimetype": "text/x-python",
   "name": "python",
   "nbconvert_exporter": "python",
   "pygments_lexer": "ipython3",
   "version": "3.11.7"
  }
 },
 "nbformat": 4,
 "nbformat_minor": 5
}
