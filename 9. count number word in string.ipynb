{
 "cells": [
  {
   "cell_type": "code",
   "execution_count": 17,
   "id": "e8eb58df-4b8d-439e-a245-c88b306380f9",
   "metadata": {},
   "outputs": [],
   "source": [
    "#9. Write a code to count the number of a word in a string.\n",
    "string = (\"Data Science and Data Analysis course is provided by pwskills\")\n",
    "word = (\"Data\")\n",
    "count = string.count(word)        "
   ]
  },
  {
   "cell_type": "code",
   "execution_count": 18,
   "id": "2c735f16-bd6e-4dce-8e9d-a6fcd9b6735b",
   "metadata": {},
   "outputs": [
    {
     "data": {
      "text/plain": [
       "2"
      ]
     },
     "execution_count": 18,
     "metadata": {},
     "output_type": "execute_result"
    }
   ],
   "source": [
    "count"
   ]
  },
  {
   "cell_type": "code",
   "execution_count": null,
   "id": "3a0d2998-9092-4e08-a527-5985e8ed243b",
   "metadata": {},
   "outputs": [],
   "source": []
  },
  {
   "cell_type": "code",
   "execution_count": null,
   "id": "98e2a9d1-8d63-47b1-91de-8ceed89c5ed4",
   "metadata": {},
   "outputs": [],
   "source": []
  },
  {
   "cell_type": "code",
   "execution_count": null,
   "id": "73b3a810-1f2d-4424-a56e-1710986e921f",
   "metadata": {},
   "outputs": [],
   "source": []
  }
 ],
 "metadata": {
  "kernelspec": {
   "display_name": "Python 3 (ipykernel)",
   "language": "python",
   "name": "python3"
  },
  "language_info": {
   "codemirror_mode": {
    "name": "ipython",
    "version": 3
   },
   "file_extension": ".py",
   "mimetype": "text/x-python",
   "name": "python",
   "nbconvert_exporter": "python",
   "pygments_lexer": "ipython3",
   "version": "3.11.7"
  }
 },
 "nbformat": 4,
 "nbformat_minor": 5
}
