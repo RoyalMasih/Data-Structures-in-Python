{
 "cells": [
  {
   "cell_type": "code",
   "execution_count": 16,
   "id": "8a221864-3b8e-46f9-bc47-9299e278d114",
   "metadata": {},
   "outputs": [
    {
     "name": "stdout",
     "output_type": "stream",
     "text": [
      "[1, 2, 3, 4, 6, 7, 8, 9, 9, 8, 7, 6, 4, 3, 2, 1]\n"
     ]
    }
   ],
   "source": [
    "#11. Wrtie a code to remove all occurences of all the specific element from a list.\n",
    "lis = [1,2,3,4,5,6,7,8,9,9,8,7,6,5,4,3,2,1]\n",
    "element_remove = 5\n",
    "new_list = [element for element in lis if element != element_remove]\n",
    "\n",
    "print(new_list)\n"
   ]
  },
  {
   "cell_type": "code",
   "execution_count": null,
   "id": "19aa51e4-c884-4696-8674-346445795616",
   "metadata": {},
   "outputs": [],
   "source": []
  },
  {
   "cell_type": "code",
   "execution_count": null,
   "id": "42471330-18f3-4ed1-8acb-a2f99064c6c9",
   "metadata": {},
   "outputs": [],
   "source": []
  }
 ],
 "metadata": {
  "kernelspec": {
   "display_name": "Python 3 (ipykernel)",
   "language": "python",
   "name": "python3"
  },
  "language_info": {
   "codemirror_mode": {
    "name": "ipython",
    "version": 3
   },
   "file_extension": ".py",
   "mimetype": "text/x-python",
   "name": "python",
   "nbconvert_exporter": "python",
   "pygments_lexer": "ipython3",
   "version": "3.11.7"
  }
 },
 "nbformat": 4,
 "nbformat_minor": 5
}
