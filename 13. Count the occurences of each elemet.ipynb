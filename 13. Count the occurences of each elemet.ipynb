{
 "cells": [
  {
   "cell_type": "code",
   "execution_count": 4,
   "id": "4c6edcc8-67e3-411a-8a10-e3a8e512a84e",
   "metadata": {},
   "outputs": [
    {
     "name": "stdout",
     "output_type": "stream",
     "text": [
      "{1: 3, 2: 2, 3: 2, 4: 1, 5: 1}\n"
     ]
    }
   ],
   "source": [
    "#13. Create a code to count the occurences of each element in a list and return a dictionery with elements as key and their counts as values. \n",
    "counts = {}\n",
    "lis = [1, 2, 3, 1, 2, 1, 3, 4, 5]\n",
    "for element in lis:\n",
    "    if element in counts:\n",
    "       counts[element] += 1\n",
    "    else:\n",
    "        counts[element] = 1\n",
    "print(counts)"
   ]
  },
  {
   "cell_type": "code",
   "execution_count": null,
   "id": "5bb68824-fbe0-44a5-b722-781b0e1d6619",
   "metadata": {},
   "outputs": [],
   "source": []
  }
 ],
 "metadata": {
  "kernelspec": {
   "display_name": "Python 3 (ipykernel)",
   "language": "python",
   "name": "python3"
  },
  "language_info": {
   "codemirror_mode": {
    "name": "ipython",
    "version": 3
   },
   "file_extension": ".py",
   "mimetype": "text/x-python",
   "name": "python",
   "nbconvert_exporter": "python",
   "pygments_lexer": "ipython3",
   "version": "3.11.7"
  }
 },
 "nbformat": 4,
 "nbformat_minor": 5
}
