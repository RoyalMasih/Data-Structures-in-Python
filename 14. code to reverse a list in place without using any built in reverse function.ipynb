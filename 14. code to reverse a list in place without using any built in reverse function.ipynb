{
 "cells": [
  {
   "cell_type": "code",
   "execution_count": 11,
   "id": "85d515b7-ce8b-4407-83ce-51946955b85c",
   "metadata": {},
   "outputs": [
    {
     "name": "stdin",
     "output_type": "stream",
     "text": [
      "Write a list a,b,1.4,2.5\n"
     ]
    },
    {
     "name": "stdout",
     "output_type": "stream",
     "text": [
      "5.2,4.1,b,a\n"
     ]
    }
   ],
   "source": [
    "# 14. Write a code to reverse a list in place without using any built in reverse function.\n",
    "lst = []\n",
    "lst = input(\"Write a list\")\n",
    "for rvr in lst:\n",
    "    print(lst[::-1])\n",
    "    break\n",
    "else:\n",
    "    print(\"No value\") "
   ]
  },
  {
   "cell_type": "code",
   "execution_count": null,
   "id": "efd778b1-1029-4d72-a9ee-2179e3a4a2ce",
   "metadata": {},
   "outputs": [],
   "source": []
  }
 ],
 "metadata": {
  "kernelspec": {
   "display_name": "Python 3 (ipykernel)",
   "language": "python",
   "name": "python3"
  },
  "language_info": {
   "codemirror_mode": {
    "name": "ipython",
    "version": 3
   },
   "file_extension": ".py",
   "mimetype": "text/x-python",
   "name": "python",
   "nbconvert_exporter": "python",
   "pygments_lexer": "ipython3",
   "version": "3.11.7"
  }
 },
 "nbformat": 4,
 "nbformat_minor": 5
}
