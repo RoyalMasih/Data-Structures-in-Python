{
 "cells": [
  {
   "cell_type": "code",
   "execution_count": 13,
   "id": "6938d6c4-877e-44f0-bb0c-4f4d04de4aad",
   "metadata": {},
   "outputs": [
    {
     "name": "stdout",
     "output_type": "stream",
     "text": [
      "7\n"
     ]
    }
   ],
   "source": [
    "#Write a code to count the number of vowels instring\n",
    "a = (\"My name is royal masih\")\n",
    "vowels = (\"A\",\"E\",\"I\",\"O\",\"U\",\"a\",\"e\",\"i\",\"o\",\"u\")\n",
    "count = 0\n",
    "for char in a:\n",
    "    if char in vowels:\n",
    "        count = count +1\n",
    "print(count)"
   ]
  },
  {
   "cell_type": "code",
   "execution_count": null,
   "id": "cd0f91e7-8ff5-4bca-a33c-3ac211977d84",
   "metadata": {},
   "outputs": [],
   "source": []
  }
 ],
 "metadata": {
  "kernelspec": {
   "display_name": "Python 3 (ipykernel)",
   "language": "python",
   "name": "python3"
  },
  "language_info": {
   "codemirror_mode": {
    "name": "ipython",
    "version": 3
   },
   "file_extension": ".py",
   "mimetype": "text/x-python",
   "name": "python",
   "nbconvert_exporter": "python",
   "pygments_lexer": "ipython3",
   "version": "3.11.7"
  }
 },
 "nbformat": 4,
 "nbformat_minor": 5
}
