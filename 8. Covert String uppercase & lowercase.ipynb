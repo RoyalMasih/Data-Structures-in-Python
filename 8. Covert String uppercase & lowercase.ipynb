{
 "cells": [
  {
   "cell_type": "code",
   "execution_count": 26,
   "id": "c2a95dd9-52c6-4643-b63d-cfacc2ed8ab9",
   "metadata": {},
   "outputs": [
    {
     "name": "stdin",
     "output_type": "stream",
     "text": [
      "Enter a string :  Hello PWSKILLS\n"
     ]
    },
    {
     "name": "stdout",
     "output_type": "stream",
     "text": [
      "Your string in lowercase : hello pwskills\n",
      "Your string in uppercase : HELLO PWSKILLS\n"
     ]
    }
   ],
   "source": [
    "#8. Write a code to convert a string to uppercase or lowercase \n",
    "string = input(\"Enter a string : \")\n",
    "str_small = string.lower()\n",
    "str_cap = string.upper()\n",
    "print(\"Your string in lowercase :\", str_small)\n",
    "print(\"Your string in uppercase :\", str_cap)"
   ]
  },
  {
   "cell_type": "code",
   "execution_count": 22,
   "id": "1b4731bf-7b12-45e9-92cd-81415990eb67",
   "metadata": {},
   "outputs": [
    {
     "data": {
      "text/plain": [
       "'my name is royal'"
      ]
     },
     "execution_count": 22,
     "metadata": {},
     "output_type": "execute_result"
    }
   ],
   "source": [
    "str_small"
   ]
  },
  {
   "cell_type": "code",
   "execution_count": null,
   "id": "4113dca0-2eb4-42a9-b487-4eb7971489b5",
   "metadata": {},
   "outputs": [],
   "source": []
  },
  {
   "cell_type": "code",
   "execution_count": null,
   "id": "dc85b2d7-4443-4c4a-b4a1-6b8ca9c318ee",
   "metadata": {},
   "outputs": [],
   "source": []
  },
  {
   "cell_type": "code",
   "execution_count": null,
   "id": "e4225969-0b5f-44bc-9582-7cc03148511a",
   "metadata": {},
   "outputs": [],
   "source": []
  },
  {
   "cell_type": "code",
   "execution_count": null,
   "id": "11dbce74-b830-4e85-ae19-3313a3b7b5e3",
   "metadata": {},
   "outputs": [],
   "source": []
  },
  {
   "cell_type": "code",
   "execution_count": null,
   "id": "509e0a3f-1533-4f62-a74e-b007de2b2e58",
   "metadata": {},
   "outputs": [],
   "source": []
  },
  {
   "cell_type": "code",
   "execution_count": null,
   "id": "45ee6b1a-acda-4d1c-ba12-663cd97da5fa",
   "metadata": {},
   "outputs": [],
   "source": []
  }
 ],
 "metadata": {
  "kernelspec": {
   "display_name": "Python 3 (ipykernel)",
   "language": "python",
   "name": "python3"
  },
  "language_info": {
   "codemirror_mode": {
    "name": "ipython",
    "version": 3
   },
   "file_extension": ".py",
   "mimetype": "text/x-python",
   "name": "python",
   "nbconvert_exporter": "python",
   "pygments_lexer": "ipython3",
   "version": "3.11.7"
  }
 },
 "nbformat": 4,
 "nbformat_minor": 5
}
