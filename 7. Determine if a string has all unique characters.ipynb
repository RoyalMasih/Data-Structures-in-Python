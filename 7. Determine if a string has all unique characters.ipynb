{
 "cells": [
  {
   "cell_type": "code",
   "execution_count": 37,
   "id": "26324375-6dde-4879-aff3-6d7df5fc8d20",
   "metadata": {},
   "outputs": [
    {
     "name": "stdout",
     "output_type": "stream",
     "text": [
      "The string has all unique characters\n"
     ]
    }
   ],
   "source": [
    "#7. Write a code to determine if a string has all unique characters.\n",
    "string = \"abcdefg\"\n",
    "char_set = set()\n",
    "is_unique = True\n",
    "for char in string:\n",
    "    if char in char_set:\n",
    "        is_unique = False\n",
    "        print(\"String is false\")\n",
    "        break\n",
    "        char_set.add(char)\n",
    "else:\n",
    "\n",
    "    print(f\"The string has all unique characters\")\n",
    "\n"
   ]
  },
  {
   "cell_type": "code",
   "execution_count": null,
   "id": "a6c37ab6-2122-47fb-bf07-ce217d1cd6fa",
   "metadata": {},
   "outputs": [],
   "source": []
  },
  {
   "cell_type": "code",
   "execution_count": null,
   "id": "99730e14-367f-4dd8-84c3-9e4e4e87c6af",
   "metadata": {},
   "outputs": [],
   "source": []
  }
 ],
 "metadata": {
  "kernelspec": {
   "display_name": "Python 3 (ipykernel)",
   "language": "python",
   "name": "python3"
  },
  "language_info": {
   "codemirror_mode": {
    "name": "ipython",
    "version": 3
   },
   "file_extension": ".py",
   "mimetype": "text/x-python",
   "name": "python",
   "nbconvert_exporter": "python",
   "pygments_lexer": "ipython3",
   "version": "3.11.7"
  }
 },
 "nbformat": 4,
 "nbformat_minor": 5
}
