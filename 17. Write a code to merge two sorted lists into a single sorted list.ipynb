{
 "cells": [
  {
   "cell_type": "code",
   "execution_count": 15,
   "id": "89adef13-db11-4f19-9d36-0fd95ed12380",
   "metadata": {},
   "outputs": [
    {
     "name": "stdout",
     "output_type": "stream",
     "text": [
      "Final Sorted list is : [1, 2, 3, 4, 5, 6, 7, 8, 9, 10]\n"
     ]
    }
   ],
   "source": [
    "#17. Write a code to merge two sorted lists into a single sorted list.\n",
    "lst1 = [1,2,6,3,5]\n",
    "lst2 = [4,7,8,9,10]\n",
    "lst1.sort()\n",
    "lst2.sort()\n",
    "final_lst = (lst1+lst2)\n",
    "final_lst.sort()\n",
    "print(\"Final Sorted list is :\", final_lst)"
   ]
  },
  {
   "cell_type": "code",
   "execution_count": null,
   "id": "3da98adc-7314-4ee5-b57f-7051a835e6bc",
   "metadata": {},
   "outputs": [],
   "source": []
  }
 ],
 "metadata": {
  "kernelspec": {
   "display_name": "Python 3 (ipykernel)",
   "language": "python",
   "name": "python3"
  },
  "language_info": {
   "codemirror_mode": {
    "name": "ipython",
    "version": 3
   },
   "file_extension": ".py",
   "mimetype": "text/x-python",
   "name": "python",
   "nbconvert_exporter": "python",
   "pygments_lexer": "ipython3",
   "version": "3.11.7"
  }
 },
 "nbformat": 4,
 "nbformat_minor": 5
}
