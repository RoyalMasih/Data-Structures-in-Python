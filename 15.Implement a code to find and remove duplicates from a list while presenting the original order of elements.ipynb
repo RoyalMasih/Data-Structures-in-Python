{
 "cells": [
  {
   "cell_type": "code",
   "execution_count": 2,
   "id": "f74242c7-9a57-4743-a964-f59b5695702a",
   "metadata": {},
   "outputs": [
    {
     "name": "stdout",
     "output_type": "stream",
     "text": [
      "List after removing duplicates while preserving order: [1, 2, 3, 4, 5, 6]\n"
     ]
    }
   ],
   "source": [
    "#15. Implement a code to find and remove duplicates from a list while presenting the original order of elements.\n",
    "num = [1, 2, 3, 4, 5, 5, 6, 6, 3, 2, 1]\n",
    "seen = set()\n",
    "unique_numbers = []\n",
    "for num in numbers:\n",
    "      if num not in seen:\n",
    "       seen.add(num)\n",
    "       unique_numbers.append(num)\n",
    "print(\"List after removing duplicates while preserving order:\", unique_numbers)\n"
   ]
  },
  {
   "cell_type": "code",
   "execution_count": null,
   "id": "8d3dad52-4eff-4b25-aa47-fc01b1f4114f",
   "metadata": {},
   "outputs": [],
   "source": []
  }
 ],
 "metadata": {
  "kernelspec": {
   "display_name": "Python 3 (ipykernel)",
   "language": "python",
   "name": "python3"
  },
  "language_info": {
   "codemirror_mode": {
    "name": "ipython",
    "version": 3
   },
   "file_extension": ".py",
   "mimetype": "text/x-python",
   "name": "python",
   "nbconvert_exporter": "python",
   "pygments_lexer": "ipython3",
   "version": "3.11.7"
  }
 },
 "nbformat": 4,
 "nbformat_minor": 5
}
